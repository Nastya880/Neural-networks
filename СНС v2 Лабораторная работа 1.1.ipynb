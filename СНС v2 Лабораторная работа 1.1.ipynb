{
  "cells": [
    {
      "cell_type": "code",
      "execution_count": 12,
      "metadata": {
        "id": "MZg7ISzf87n-"
      },
      "outputs": [],
      "source": [
        "import tensorflow.compat.v1 as tf\n",
        "tf.disable_v2_behavior()\n",
        "import numpy\n",
        "import matplotlib.pyplot as plt\n",
        "rng = numpy.random"
      ]
    },
    {
      "cell_type": "code",
      "execution_count": 13,
      "metadata": {
        "id": "-BTlUXbo87oE"
      },
      "outputs": [],
      "source": [
        "# Обучающие данные\n",
        "train_X = numpy.asarray([3.3,4.4,5.5,6.71,6.93,4.168,9.779,6.182,7.59,2.167,\n",
        "                         7.042,10.791,5.313,7.997,5.654,9.27,3.1])\n",
        "train_Y = numpy.asarray([1.7,2.76,2.09,3.19,1.694,1.573,3.366,2.596,2.53,1.221,\n",
        "                         2.827,3.465,1.65,2.904,2.42,2.94,1.3])\n",
        "n_samples = train_X.shape[0]"
      ]
    },
    {
      "cell_type": "markdown",
      "metadata": {
        "id": "aUa5rjAS87oG"
      },
      "source": [
        "**ВАШ КОД ЗДЕСЬ:**"
      ]
    },
    {
      "cell_type": "code",
      "execution_count": 4,
      "metadata": {
        "colab": {
          "base_uri": "https://localhost:8080/",
          "height": 265
        },
        "id": "y9XgQ2mgAyZ1",
        "outputId": "f0b6ca37-32bf-4afa-bd73-6564b1f4ec41"
      },
      "outputs": [
        {
          "output_type": "display_data",
          "data": {
            "text/plain": [
              "<Figure size 432x288 with 1 Axes>"
            ],
            "image/png": "[encoded data removed]"
          },
          "metadata": {
            "needs_background": "light"
          }
        }
      ],
      "source": [
        "plt.plot(train_X, train_Y, 'ro', label='Исходные данные')\n",
        "plt.legend()\n",
        "plt.show()"
      ]
    },
    {
      "cell_type": "code",
      "execution_count": 11,
      "metadata": {
        "id": "JgnO0idm87oJ"
      },
      "outputs": [],
      "source": [
        "# Параметры обучения\n",
        "learning_rate = 0.01\n",
        "learning_rate_1 = 0.001\n",
        "learning_rate_2 = 0.05\n",
        "training_epochs = 1500\n",
        "training_epochs_1 = 700\n",
        "training_epochs_2 = 2500\n",
        "display_step = 50"
      ]
    },
    {
      "cell_type": "code",
      "execution_count": 14,
      "metadata": {
        "id": "bbPgipuY87oL"
      },
      "outputs": [],
      "source": [
        "# tf Graph Input\n",
        "X = tf.placeholder(\"float\")\n",
        "Y = tf.placeholder(\"float\")\n",
        "\n",
        "# Set model weights\n",
        "W = tf.Variable(rng.randn(), name=\"weight\")\n",
        "b = tf.Variable(rng.randn(), name=\"bias\")"
      ]
    },
    {
      "cell_type": "code",
      "execution_count": 15,
      "metadata": {
        "id": "6KXfkcND87oN"
      },
      "outputs": [],
      "source": [
        "# Construct a linear model\n",
        "pred = tf.add(tf.multiply(X, W), b)"
      ]
    },
    {
      "cell_type": "code",
      "execution_count": 16,
      "metadata": {
        "id": "OaWzisRX87oR"
      },
      "outputs": [],
      "source": [
        "# Mean squared error\n",
        "cost = tf.reduce_sum(tf.pow(pred-Y, 2))/(2*n_samples)\n",
        "# Gradient descent\n",
        "optimizer = tf.train.GradientDescentOptimizer(learning_rate).minimize(cost)\n",
        "optimizer_1 = tf.train.GradientDescentOptimizer(learning_rate_1).minimize(cost)\n",
        "optimizer_2 = tf.train.GradientDescentOptimizer(learning_rate_2).minimize(cost)"
      ]
    },
    {
      "cell_type": "code",
      "execution_count": 17,
      "metadata": {
        "id": "0q5S3j2s87oU"
      },
      "outputs": [],
      "source": [
        "# Initializing the variables\n",
        "init = tf.global_variables_initializer()"
      ]
    },
    {
      "cell_type": "code",
      "source": [
        "# Launch the graph\n",
        "# Using InteractiveSession (more convenient while using Notebooks)\n",
        "sess = tf.InteractiveSession()\n",
        "sess.run(init)\n",
        "\n",
        "# Fit all training data\n",
        "for epoch in range(training_epochs):\n",
        "  for (x, y) in zip(train_X, train_Y):\n",
        "    sess.run(optimizer, feed_dict={X: x, Y: y})\n",
        "\n",
        "  #Display logs per epoch step\n",
        "  if (epoch+1) % display_step == 0:\n",
        "    c = sess.run(cost, feed_dict={X: train_X, Y:train_Y})\n",
        "    print(\"Epoch:\", '%04d' % (epoch+1), \"cost=\", \"{:.9f}\".format(c), \\\n",
        "                \"W=\", sess.run(W), \"b=\", sess.run(b))\n",
        "\n",
        "print(\"Optimization Finished!\")\n",
        "training_cost = sess.run(cost, feed_dict={X: train_X, Y: train_Y})\n",
        "print(\"Training cost=\", training_cost, \"W=\", sess.run(W), \"b=\", sess.run(b), '\\n')\n"
      ],
      "metadata": {
        "id": "Eh90JhXlTJQx",
        "outputId": "55a9ef03-14d5-4d01-c327-d794f6a468a6",
        "colab": {
          "base_uri": "https://localhost:8080/"
        }
      },
      "execution_count": 18,
      "outputs": [
        {
          "output_type": "stream",
          "name": "stderr",
          "text": [
            "/usr/local/lib/python3.8/dist-packages/tensorflow/python/client/session.py:1769: UserWarning: An interactive session is already active. This can cause out-of-memory errors in some cases. You must explicitly call `InteractiveSession.close()` to release resources held by the other session(s).\n",
            "  warnings.warn('An interactive session is already active. This can '\n"
          ]
        },
        {
          "output_type": "stream",
          "name": "stdout",
          "text": [
            "Epoch: 0050 cost= 0.078145802 W= 0.26880726 b= 0.6632444\n",
            "Epoch: 0100 cost= 0.078010909 W= 0.26766464 b= 0.6714643\n",
            "Epoch: 0150 cost= 0.077891655 W= 0.26658997 b= 0.67919594\n",
            "Epoch: 0200 cost= 0.077786267 W= 0.26557907 b= 0.68646795\n",
            "Epoch: 0250 cost= 0.077693105 W= 0.2646284 b= 0.6933076\n",
            "Epoch: 0300 cost= 0.077610798 W= 0.26373407 b= 0.6997406\n",
            "Epoch: 0350 cost= 0.077538066 W= 0.26289314 b= 0.70579076\n",
            "Epoch: 0400 cost= 0.077473775 W= 0.26210207 b= 0.7114813\n",
            "Epoch: 0450 cost= 0.077416964 W= 0.26135814 b= 0.71683365\n",
            "Epoch: 0500 cost= 0.077366814 W= 0.2606583 b= 0.7218677\n",
            "Epoch: 0550 cost= 0.077322483 W= 0.26000014 b= 0.7266027\n",
            "Epoch: 0600 cost= 0.077283345 W= 0.2593812 b= 0.73105484\n",
            "Epoch: 0650 cost= 0.077248737 W= 0.25879896 b= 0.7352435\n",
            "Epoch: 0700 cost= 0.077218182 W= 0.25825134 b= 0.7391835\n",
            "Epoch: 0750 cost= 0.077191211 W= 0.25773638 b= 0.7428877\n",
            "Epoch: 0800 cost= 0.077167392 W= 0.25725186 b= 0.7463733\n",
            "Epoch: 0850 cost= 0.077146366 W= 0.2567964 b= 0.7496502\n",
            "Epoch: 0900 cost= 0.077127799 W= 0.25636786 b= 0.7527332\n",
            "Epoch: 0950 cost= 0.077111430 W= 0.2559649 b= 0.7556315\n",
            "Epoch: 1000 cost= 0.077096954 W= 0.25558573 b= 0.7583593\n",
            "Epoch: 1050 cost= 0.077084206 W= 0.25522926 b= 0.7609238\n",
            "Epoch: 1100 cost= 0.077072918 W= 0.254894 b= 0.7633361\n",
            "Epoch: 1150 cost= 0.077062994 W= 0.25457853 b= 0.7656057\n",
            "Epoch: 1200 cost= 0.077054232 W= 0.25428197 b= 0.76773876\n",
            "Epoch: 1250 cost= 0.077046536 W= 0.25400296 b= 0.7697457\n",
            "Epoch: 1300 cost= 0.077039711 W= 0.25374037 b= 0.7716348\n",
            "Epoch: 1350 cost= 0.077033706 W= 0.2534937 b= 0.7734096\n",
            "Epoch: 1400 cost= 0.077028438 W= 0.2532617 b= 0.7750785\n",
            "Epoch: 1450 cost= 0.077023782 W= 0.2530433 b= 0.7766493\n",
            "Epoch: 1500 cost= 0.077019654 W= 0.25283793 b= 0.77812773\n",
            "Optimization Finished!\n",
            "Training cost= 0.077019654 W= 0.25283793 b= 0.77812773 \n",
            "\n"
          ]
        }
      ]
    },
    {
      "cell_type": "code",
      "execution_count": 10,
      "metadata": {
        "colab": {
          "base_uri": "https://localhost:8080/"
        },
        "id": "fYMGsHQr87oW",
        "outputId": "dba4338a-005e-4649-ddc2-984529d636d8"
      },
      "outputs": [
        {
          "output_type": "stream",
          "name": "stdout",
          "text": [
            "Epoch: 0050 cost= 0.087387711 W= 0.30677012 b= 0.39014268\n",
            "Epoch: 0100 cost= 0.086183019 W= 0.30336952 b= 0.41460583\n",
            "Epoch: 0150 cost= 0.085117616 W= 0.3001713 b= 0.43761432\n",
            "Epoch: 0200 cost= 0.084175467 W= 0.29716316 b= 0.4592543\n",
            "Epoch: 0250 cost= 0.083342284 W= 0.2943339 b= 0.4796076\n",
            "Epoch: 0300 cost= 0.082605533 W= 0.29167306 b= 0.49874964\n",
            "Epoch: 0350 cost= 0.081954025 W= 0.28917047 b= 0.5167529\n",
            "Epoch: 0400 cost= 0.081377916 W= 0.28681675 b= 0.53368586\n",
            "Epoch: 0450 cost= 0.080868445 W= 0.28460282 b= 0.54961264\n",
            "Epoch: 0500 cost= 0.080417991 W= 0.28252065 b= 0.56459194\n",
            "Epoch: 0550 cost= 0.080019668 W= 0.28056216 b= 0.5786807\n",
            "Epoch: 0600 cost= 0.079667494 W= 0.2787202 b= 0.5919317\n",
            "Epoch: 0650 cost= 0.079356089 W= 0.2769876 b= 0.60439587\n",
            "Epoch: 0700 cost= 0.079080828 W= 0.2753583 b= 0.61611664\n",
            "Epoch: 0750 cost= 0.078837477 W= 0.27382612 b= 0.62713903\n",
            "Epoch: 0800 cost= 0.078622334 W= 0.2723851 b= 0.63750595\n",
            "Epoch: 0850 cost= 0.078432135 W= 0.27102965 b= 0.64725685\n",
            "Epoch: 0900 cost= 0.078264020 W= 0.2697548 b= 0.656428\n",
            "Epoch: 0950 cost= 0.078115381 W= 0.26855567 b= 0.66505414\n",
            "Epoch: 1000 cost= 0.077984005 W= 0.26742795 b= 0.67316705\n",
            "Epoch: 1050 cost= 0.077867895 W= 0.26636735 b= 0.6807972\n",
            "Epoch: 1100 cost= 0.077765271 W= 0.2653698 b= 0.6879734\n",
            "Epoch: 1150 cost= 0.077674568 W= 0.26443148 b= 0.6947234\n",
            "Epoch: 1200 cost= 0.077594422 W= 0.26354906 b= 0.7010716\n",
            "Epoch: 1250 cost= 0.077523567 W= 0.26271906 b= 0.70704305\n",
            "Epoch: 1300 cost= 0.077460982 W= 0.26193833 b= 0.7126594\n",
            "Epoch: 1350 cost= 0.077405676 W= 0.26120418 b= 0.7179411\n",
            "Epoch: 1400 cost= 0.077356830 W= 0.26051348 b= 0.72290933\n",
            "Epoch: 1450 cost= 0.077313654 W= 0.25986406 b= 0.72758186\n",
            "Epoch: 1500 cost= 0.077275530 W= 0.2592531 b= 0.7319768\n",
            "Optimization Finished!\n",
            "Training cost= 0.07727553 W= 0.2592531 b= 0.7319768 \n",
            "\n"
          ]
        }
      ],
      "source": [
        "# Launch the graph\n",
        "# Using InteractiveSession (more convenient while using Notebooks)\n",
        "sess = tf.InteractiveSession()\n",
        "sess.run(init)\n",
        "\n",
        "# Fit all training data\n",
        "for epoch in range(training_epochs):\n",
        "  for (x, y) in zip(train_X, train_Y):\n",
        "    sess.run(optimizer, feed_dict={X: x, Y: y})\n",
        "\n",
        "  #Display logs per epoch step\n",
        "  if (epoch+1) % display_step == 0:\n",
        "    c = sess.run(cost, feed_dict={X: train_X, Y:train_Y})\n",
        "    print(\"Epoch:\", '%04d' % (epoch+1), \"cost=\", \"{:.9f}\".format(c), \\\n",
        "                \"W=\", sess.run(W), \"b=\", sess.run(b))\n",
        "\n",
        "print(\"Optimization Finished!\")\n",
        "training_cost = sess.run(cost, feed_dict={X: train_X, Y: train_Y})\n",
        "print(\"Training cost=\", training_cost, \"W=\", sess.run(W), \"b=\", sess.run(b), '\\n')"
      ]
    },
    {
      "cell_type": "code",
      "execution_count": null,
      "metadata": {
        "id": "7YiFpPz1QB4-",
        "outputId": "113a063f-1141-4b43-9eb4-cf1f83f64705"
      },
      "outputs": [
        {
          "name": "stdout",
          "output_type": "stream",
          "text": [
            "Epoch: 0050 cost= 0.580784917 W= 0.67219913 b= -1.6256194\n",
            "Epoch: 0100 cost= 0.440864563 W= 0.6004763 b= -1.6206999\n",
            "Epoch: 0150 cost= 0.435218245 W= 0.59116185 b= -1.6070603\n",
            "Epoch: 0200 cost= 0.430897623 W= 0.5883537 b= -1.5925918\n",
            "Epoch: 0250 cost= 0.426623315 W= 0.586235 b= -1.5781131\n",
            "Epoch: 0300 cost= 0.422397554 W= 0.58419824 b= -1.5637083\n",
            "Epoch: 0350 cost= 0.418224484 W= 0.58218133 b= -1.549396\n",
            "Epoch: 0400 cost= 0.414101392 W= 0.5801772 b= -1.535169\n",
            "Epoch: 0450 cost= 0.410028398 W= 0.57818574 b= -1.5210291\n",
            "Epoch: 0500 cost= 0.406005710 W= 0.57620686 b= -1.506979\n",
            "Epoch: 0550 cost= 0.402031094 W= 0.57423997 b= -1.4930122\n",
            "Epoch: 0600 cost= 0.398104608 W= 0.5722853 b= -1.4791299\n",
            "Epoch: 0650 cost= 0.394225299 W= 0.5703414 b= -1.4653312\n",
            "Epoch: 0700 cost= 0.390392601 W= 0.5684098 b= -1.4516153\n",
            "Optimization Finished!\n",
            "Training cost= 0.3903926 W= 0.5684098 b= -1.4516153 \n",
            "\n"
          ]
        }
      ],
      "source": [
        "# Launch the graph\n",
        "# Using InteractiveSession (more convenient while using Notebooks)\n",
        "sess1 = tf.InteractiveSession()\n",
        "sess1.run(init)\n",
        "\n",
        "# Fit all training data\n",
        "for epoch in range(training_epochs_1):\n",
        "  for (x, y) in zip(train_X, train_Y):\n",
        "    sess1.run(optimizer_1, feed_dict={X: x, Y: y})\n",
        "\n",
        "  #Display logs per epoch step\n",
        "  if (epoch+1) % display_step == 0:\n",
        "    c = sess1.run(cost, feed_dict={X: train_X, Y:train_Y})\n",
        "    print(\"Epoch:\", '%04d' % (epoch+1), \"cost=\", \"{:.9f}\".format(c), \\\n",
        "                \"W=\", sess1.run(W), \"b=\", sess1.run(b))\n",
        "\n",
        "print(\"Optimization Finished!\")\n",
        "training_cost = sess1.run(cost, feed_dict={X: train_X, Y: train_Y})\n",
        "print(\"Training cost=\", training_cost, \"W=\", sess1.run(W), \"b=\", sess1.run(b), '\\n')"
      ]
    },
    {
      "cell_type": "code",
      "execution_count": null,
      "metadata": {
        "id": "z7sibfTmQB4_",
        "outputId": "bdeb300d-e82b-418a-b65d-92276cc10f0d"
      },
      "outputs": [
        {
          "name": "stdout",
          "output_type": "stream",
          "text": [
            "Epoch: 0050 cost= 0.284851700 W= 0.48307028 b= -0.9924244\n",
            "Epoch: 0100 cost= 0.188387305 W= 0.41785645 b= -0.5039099\n",
            "Epoch: 0150 cost= 0.137031958 W= 0.37032238 b= -0.1478346\n",
            "Epoch: 0200 cost= 0.109670855 W= 0.33567527 b= 0.11170577\n",
            "Epoch: 0250 cost= 0.095078371 W= 0.3104212 b= 0.30088294\n",
            "Epoch: 0300 cost= 0.087284818 W= 0.2920137 b= 0.43877262\n",
            "Epoch: 0350 cost= 0.083114445 W= 0.27859658 b= 0.5392799\n",
            "Epoch: 0400 cost= 0.080877185 W= 0.26881704 b= 0.6125379\n",
            "Epoch: 0450 cost= 0.079672739 W= 0.2616888 b= 0.6659356\n",
            "Epoch: 0500 cost= 0.079021312 W= 0.25649297 b= 0.7048572\n",
            "Epoch: 0550 cost= 0.078666851 W= 0.25270584 b= 0.7332265\n",
            "Epoch: 0600 cost= 0.078472368 W= 0.24994537 b= 0.75390506\n",
            "Epoch: 0650 cost= 0.078364618 W= 0.24793336 b= 0.7689769\n",
            "Epoch: 0700 cost= 0.078304119 W= 0.24646673 b= 0.7799633\n",
            "Epoch: 0750 cost= 0.078269601 W= 0.24539779 b= 0.7879707\n",
            "Epoch: 0800 cost= 0.078249551 W= 0.24461874 b= 0.7938065\n",
            "Epoch: 0850 cost= 0.078237623 W= 0.24405076 b= 0.7980612\n",
            "Epoch: 0900 cost= 0.078230374 W= 0.2436367 b= 0.801163\n",
            "Epoch: 0950 cost= 0.078225844 W= 0.24333502 b= 0.80342275\n",
            "Epoch: 1000 cost= 0.078222960 W= 0.24311507 b= 0.8050705\n",
            "Epoch: 1050 cost= 0.078221053 W= 0.24295484 b= 0.80627096\n",
            "Epoch: 1100 cost= 0.078219816 W= 0.242838 b= 0.80714613\n",
            "Epoch: 1150 cost= 0.078218967 W= 0.24275269 b= 0.80778503\n",
            "Epoch: 1200 cost= 0.078218356 W= 0.24269085 b= 0.80824834\n",
            "Epoch: 1250 cost= 0.078217946 W= 0.24264546 b= 0.8085883\n",
            "Epoch: 1300 cost= 0.078217626 W= 0.24261256 b= 0.80883485\n",
            "Epoch: 1350 cost= 0.078217447 W= 0.24258839 b= 0.80901587\n",
            "Epoch: 1400 cost= 0.078217290 W= 0.24257086 b= 0.8091469\n",
            "Epoch: 1450 cost= 0.078217186 W= 0.24255823 b= 0.8092419\n",
            "Epoch: 1500 cost= 0.078217104 W= 0.24254864 b= 0.8093135\n",
            "Epoch: 1550 cost= 0.078217044 W= 0.24254204 b= 0.80936295\n",
            "Epoch: 1600 cost= 0.078216992 W= 0.24253708 b= 0.8094002\n",
            "Epoch: 1650 cost= 0.078216970 W= 0.24253368 b= 0.80942565\n",
            "Epoch: 1700 cost= 0.078216963 W= 0.24253131 b= 0.8094433\n",
            "Epoch: 1750 cost= 0.078216963 W= 0.24252948 b= 0.80945694\n",
            "Epoch: 1800 cost= 0.078216940 W= 0.24252816 b= 0.80946696\n",
            "Epoch: 1850 cost= 0.078216933 W= 0.24252737 b= 0.8094729\n",
            "Epoch: 1900 cost= 0.078216933 W= 0.2425271 b= 0.8094748\n",
            "Epoch: 1950 cost= 0.078216933 W= 0.2425271 b= 0.8094748\n",
            "Epoch: 2000 cost= 0.078216933 W= 0.2425271 b= 0.8094748\n",
            "Epoch: 2050 cost= 0.078216933 W= 0.2425271 b= 0.8094748\n",
            "Epoch: 2100 cost= 0.078216933 W= 0.2425271 b= 0.8094748\n",
            "Epoch: 2150 cost= 0.078216933 W= 0.2425271 b= 0.8094748\n",
            "Epoch: 2200 cost= 0.078216933 W= 0.2425271 b= 0.8094748\n",
            "Epoch: 2250 cost= 0.078216933 W= 0.2425271 b= 0.8094748\n",
            "Epoch: 2300 cost= 0.078216933 W= 0.2425271 b= 0.8094748\n",
            "Epoch: 2350 cost= 0.078216933 W= 0.2425271 b= 0.8094748\n",
            "Epoch: 2400 cost= 0.078216933 W= 0.2425271 b= 0.8094748\n",
            "Epoch: 2450 cost= 0.078216933 W= 0.2425271 b= 0.8094748\n",
            "Epoch: 2500 cost= 0.078216933 W= 0.2425271 b= 0.8094748\n",
            "Optimization Finished!\n",
            "Training cost= 0.07821693 W= 0.2425271 b= 0.8094748 \n",
            "\n"
          ]
        }
      ],
      "source": [
        "# Launch the graph\n",
        "# Using InteractiveSession (more convenient while using Notebooks)\n",
        "sess2 = tf.InteractiveSession()\n",
        "sess2.run(init)\n",
        "\n",
        "# Fit all training data\n",
        "for epoch in range(training_epochs_2):\n",
        "  for (x, y) in zip(train_X, train_Y):\n",
        "    sess2.run(optimizer_2, feed_dict={X: x, Y: y})\n",
        "\n",
        "  #Display logs per epoch step\n",
        "  if (epoch+1) % display_step == 0:\n",
        "    c = sess2.run(cost, feed_dict={X: train_X, Y:train_Y})\n",
        "    print(\"Epoch:\", '%04d' % (epoch+1), \"cost=\", \"{:.9f}\".format(c), \\\n",
        "                \"W=\", sess2.run(W), \"b=\", sess2.run(b))\n",
        "\n",
        "print(\"Optimization Finished!\")\n",
        "training_cost = sess2.run(cost, feed_dict={X: train_X, Y: train_Y})\n",
        "print(\"Training cost=\", training_cost, \"W=\", sess2.run(W), \"b=\", sess2.run(b), '\\n')"
      ]
    },
    {
      "cell_type": "markdown",
      "metadata": {
        "id": "KKI0y_EOA7IU"
      },
      "source": [
        "**ВАШ КОД ЗДЕСЬ:**"
      ]
    },
    {
      "cell_type": "code",
      "execution_count": 21,
      "metadata": {
        "colab": {
          "base_uri": "https://localhost:8080/",
          "height": 265
        },
        "id": "e7BgIohrA8sF",
        "outputId": "bb7520de-7bda-439b-de40-9c8b9c836f68"
      },
      "outputs": [
        {
          "output_type": "display_data",
          "data": {
            "text/plain": [
              "<Figure size 432x288 with 1 Axes>"
            ],
            "image/png": "[encoded data removed]"
          },
          "metadata": {
            "needs_background": "light"
          }
        }
      ],
      "source": [
        "plt.plot(train_X, train_Y, 'ro', label='Исходные данные')\n",
        "plt.plot(train_X, sess.run(W)*train_X + sess.run(b), label='Парам. - epochs=1500,step=0.01')\n",
        "#plt.plot(train_X, sess1.run(W)*train_X + sess1.run(b), label='Парам. - epochs=700,step=0.001')\n",
        "#plt.plot(train_X, sess2.run(W)*train_X + sess2.run(b), label='Парам. - epochs=2500,step=0.05')\n",
        "plt.legend()\n",
        "plt.show()"
      ]
    },
    {
      "cell_type": "code",
      "execution_count": null,
      "metadata": {
        "id": "4byBNIArQB5B"
      },
      "outputs": [],
      "source": []
    },
    {
      "cell_type": "code",
      "execution_count": null,
      "metadata": {
        "id": "c2mwGXT7QB5B"
      },
      "outputs": [],
      "source": []
    },
    {
      "cell_type": "code",
      "execution_count": null,
      "metadata": {
        "id": "Hw3aYx0jQB5C"
      },
      "outputs": [],
      "source": []
    }
  ],
  "metadata": {
    "colab": {
      "name": "linear_regression.ipynb",
      "provenance": []
    },
    "kernelspec": {
      "display_name": "Python 3",
      "language": "python",
      "name": "python3"
    },
    "language_info": {
      "codemirror_mode": {
        "name": "ipython",
        "version": 3
      },
      "file_extension": ".py",
      "mimetype": "text/x-python",
      "name": "python",
      "nbconvert_exporter": "python",
      "pygments_lexer": "ipython3",
      "version": "3.7.4"
    }
  },
  "nbformat": 4,
  "nbformat_minor": 0
}