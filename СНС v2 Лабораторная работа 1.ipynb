{
 "cells": [
  {
   "cell_type": "code",
   "execution_count": 5,
   "metadata": {
    "colab": {
     "base_uri": "https://localhost:8080/",
     "height": 88
    },
    "colab_type": "code",
    "executionInfo": {
     "elapsed": 2905,
     "status": "ok",
     "timestamp": 1585832128650,
     "user": {
      "displayName": "Вера Кузьмина",
      "photoUrl": "https://lh3.googleusercontent.com/a-/AOh14Gid6eDBA15Yx5zdUcqjB0_OwvQy0PDdRRwzU9JB=s64",
      "userId": "11526768068054229551"
     },
     "user_tz": -180
    },
    "id": "MZg7ISzf87n-",
    "outputId": "152760c3-682e-4788-f8ef-3a73d619cdbc"
   },
   "outputs": [
    {
     "name": "stdout",
     "output_type": "stream",
     "text": [
      "WARNING:tensorflow:From C:\\Users\\Dmitry\\Anaconda3\\lib\\site-packages\\tensorflow_core\\python\\compat\\v2_compat.py:88: disable_resource_variables (from tensorflow.python.ops.variable_scope) is deprecated and will be removed in a future version.\n",
      "Instructions for updating:\n",
      "non-resource variables are not supported in the long term\n"
     ]
    }
   ],
   "source": [
    "import tensorflow.compat.v1 as tf\n",
    "tf.disable_v2_behavior()\n",
    "import numpy\n",
    "import matplotlib.pyplot as plt\n",
    "rng = numpy.random"
   ]
  },
  {
   "cell_type": "code",
   "execution_count": 6,
   "metadata": {
    "colab": {},
    "colab_type": "code",
    "id": "-BTlUXbo87oE"
   },
   "outputs": [],
   "source": [
    "# Обучающие данные\n",
    "train_X = numpy.asarray([3.3,4.4,5.5,6.71,6.93,4.168,9.779,6.182,7.59,2.167,\n",
    "                         7.042,10.791,5.313,7.997,5.654,9.27,3.1])\n",
    "train_Y = numpy.asarray([1.7,2.76,2.09,3.19,1.694,1.573,3.366,2.596,2.53,1.221,\n",
    "                         2.827,3.465,1.65,2.904,2.42,2.94,1.3])\n",
    "n_samples = train_X.shape[0]"
   ]
  },
  {
   "cell_type": "markdown",
   "metadata": {
    "colab_type": "text",
    "id": "aUa5rjAS87oG"
   },
   "source": [
    "**ВАШ КОД ЗДЕСЬ:**"
   ]
  },
  {
   "cell_type": "code",
   "execution_count": 7,
   "metadata": {
    "colab": {},
    "colab_type": "code",
    "id": "y9XgQ2mgAyZ1"
   },
   "outputs": [
    {
     "data": {
      "image/png": "[encoded data removed]",
      "text/plain": [
       "<Figure size 432x288 with 1 Axes>"
      ]
     },
     "metadata": {
      "needs_background": "light"
     },
     "output_type": "display_data"
    }
   ],
   "source": [
    "plt.plot(train_X, train_Y, 'ro', label='Исходные данные')\n",
    "plt.legend()\n",
    "plt.show()"
   ]
  },
  {
   "cell_type": "code",
   "execution_count": 89,
   "metadata": {
    "colab": {},
    "colab_type": "code",
    "id": "JgnO0idm87oJ"
   },
   "outputs": [],
   "source": [
    "# Параметры обучения\n",
    "learning_rate = 0.01\n",
    "learning_rate_1 = 0.001\n",
    "learning_rate_2 = 0.05\n",
    "training_epochs = 1500\n",
    "training_epochs_1 = 700\n",
    "training_epochs_2 = 2500\n",
    "display_step = 50"
   ]
  },
  {
   "cell_type": "code",
   "execution_count": 90,
   "metadata": {
    "colab": {},
    "colab_type": "code",
    "id": "bbPgipuY87oL"
   },
   "outputs": [],
   "source": [
    "# tf Graph Input\n",
    "X = tf.placeholder(\"float\")\n",
    "Y = tf.placeholder(\"float\")\n",
    "\n",
    "# Set model weights\n",
    "W = tf.Variable(rng.randn(), name=\"weight\")\n",
    "b = tf.Variable(rng.randn(), name=\"bias\")"
   ]
  },
  {
   "cell_type": "code",
   "execution_count": 91,
   "metadata": {
    "colab": {},
    "colab_type": "code",
    "id": "6KXfkcND87oN"
   },
   "outputs": [],
   "source": [
    "# Construct a linear model\n",
    "pred = tf.add(tf.multiply(X, W), b)"
   ]
  },
  {
   "cell_type": "code",
   "execution_count": 92,
   "metadata": {
    "colab": {},
    "colab_type": "code",
    "id": "OaWzisRX87oR"
   },
   "outputs": [],
   "source": [
    "# Mean squared error\n",
    "cost = tf.reduce_sum(tf.pow(pred-Y, 2))/(2*n_samples)\n",
    "# Gradient descent\n",
    "optimizer = tf.train.GradientDescentOptimizer(learning_rate).minimize(cost)\n",
    "optimizer_1 = tf.train.GradientDescentOptimizer(learning_rate_1).minimize(cost)\n",
    "optimizer_2 = tf.train.GradientDescentOptimizer(learning_rate_2).minimize(cost)"
   ]
  },
  {
   "cell_type": "code",
   "execution_count": 93,
   "metadata": {
    "colab": {},
    "colab_type": "code",
    "id": "0q5S3j2s87oU"
   },
   "outputs": [],
   "source": [
    "# Initializing the variables\n",
    "init = tf.global_variables_initializer()"
   ]
  },
  {
   "cell_type": "code",
   "execution_count": 94,
   "metadata": {
    "colab": {
     "base_uri": "https://localhost:8080/",
     "height": 635
    },
    "colab_type": "code",
    "executionInfo": {
     "elapsed": 14041,
     "status": "ok",
     "timestamp": 1585832683559,
     "user": {
      "displayName": "Вера Кузьмина",
      "photoUrl": "https://lh3.googleusercontent.com/a-/AOh14Gid6eDBA15Yx5zdUcqjB0_OwvQy0PDdRRwzU9JB=s64",
      "userId": "11526768068054229551"
     },
     "user_tz": -180
    },
    "id": "fYMGsHQr87oW",
    "outputId": "36f7fa8e-3475-4cd1-dc5c-475bba2f2ef3"
   },
   "outputs": [
    {
     "name": "stdout",
     "output_type": "stream",
     "text": [
      "Epoch: 0050 cost= 0.406754762 W= 0.5705208 b= -1.5072618\n",
      "Epoch: 0100 cost= 0.368669331 W= 0.5514339 b= -1.3699516\n",
      "Epoch: 0150 cost= 0.334980607 W= 0.533482 b= -1.240806\n",
      "Epoch: 0200 cost= 0.305182010 W= 0.51659787 b= -1.1193435\n",
      "Epoch: 0250 cost= 0.278824180 W= 0.50071824 b= -1.0051061\n",
      "Epoch: 0300 cost= 0.255508959 W= 0.4857825 b= -0.8976598\n",
      "Epoch: 0350 cost= 0.234886035 W= 0.4717352 b= -0.79660445\n",
      "Epoch: 0400 cost= 0.216644615 W= 0.45852354 b= -0.70156056\n",
      "Epoch: 0450 cost= 0.200509429 W= 0.44609752 b= -0.6121686\n",
      "Epoch: 0500 cost= 0.186237603 W= 0.4344106 b= -0.5280937\n",
      "Epoch: 0550 cost= 0.173613682 W= 0.42341864 b= -0.44901824\n",
      "Epoch: 0600 cost= 0.162447721 W= 0.41308036 b= -0.37464583\n",
      "Epoch: 0650 cost= 0.152571365 W= 0.40335706 b= -0.30469725\n",
      "Epoch: 0700 cost= 0.143835589 W= 0.3942121 b= -0.23890857\n",
      "Epoch: 0750 cost= 0.136108801 W= 0.3856109 b= -0.17703252\n",
      "Epoch: 0800 cost= 0.129274502 W= 0.3775213 b= -0.11883663\n",
      "Epoch: 0850 cost= 0.123229660 W= 0.36991283 b= -0.064101726\n",
      "Epoch: 0900 cost= 0.117883064 W= 0.36275688 b= -0.012622265\n",
      "Epoch: 0950 cost= 0.113154121 W= 0.3560266 b= 0.03579551\n",
      "Epoch: 1000 cost= 0.108971551 W= 0.3496964 b= 0.08133363\n",
      "Epoch: 1050 cost= 0.105272211 W= 0.34374276 b= 0.124163575\n",
      "Epoch: 1100 cost= 0.102000311 W= 0.33814338 b= 0.16444595\n",
      "Epoch: 1150 cost= 0.099106528 W= 0.33287686 b= 0.20233263\n",
      "Epoch: 1200 cost= 0.096547157 W= 0.32792363 b= 0.23796602\n",
      "Epoch: 1250 cost= 0.094283558 W= 0.3232649 b= 0.27148023\n",
      "Epoch: 1300 cost= 0.092281565 W= 0.31888327 b= 0.30300146\n",
      "Epoch: 1350 cost= 0.090511061 W= 0.31476226 b= 0.33264747\n",
      "Epoch: 1400 cost= 0.088945203 W= 0.3108864 b= 0.3605302\n",
      "Epoch: 1450 cost= 0.087560385 W= 0.30724102 b= 0.38675508\n",
      "Epoch: 1500 cost= 0.086335726 W= 0.30381238 b= 0.41142002\n",
      "Optimization Finished!\n",
      "Training cost= 0.086335726 W= 0.30381238 b= 0.41142002 \n",
      "\n"
     ]
    }
   ],
   "source": [
    "# Launch the graph\n",
    "# Using InteractiveSession (more convenient while using Notebooks)\n",
    "sess = tf.InteractiveSession()\n",
    "sess.run(init)\n",
    "\n",
    "# Fit all training data\n",
    "for epoch in range(training_epochs):\n",
    "  for (x, y) in zip(train_X, train_Y):\n",
    "    sess.run(optimizer, feed_dict={X: x, Y: y})\n",
    "\n",
    "  #Display logs per epoch step\n",
    "  if (epoch+1) % display_step == 0:\n",
    "    c = sess.run(cost, feed_dict={X: train_X, Y:train_Y})\n",
    "    print(\"Epoch:\", '%04d' % (epoch+1), \"cost=\", \"{:.9f}\".format(c), \\\n",
    "                \"W=\", sess.run(W), \"b=\", sess.run(b))\n",
    "\n",
    "print(\"Optimization Finished!\")\n",
    "training_cost = sess.run(cost, feed_dict={X: train_X, Y: train_Y})\n",
    "print(\"Training cost=\", training_cost, \"W=\", sess.run(W), \"b=\", sess.run(b), '\\n')"
   ]
  },
  {
   "cell_type": "code",
   "execution_count": 95,
   "metadata": {},
   "outputs": [
    {
     "name": "stdout",
     "output_type": "stream",
     "text": [
      "Epoch: 0050 cost= 0.580784917 W= 0.67219913 b= -1.6256194\n",
      "Epoch: 0100 cost= 0.440864563 W= 0.6004763 b= -1.6206999\n",
      "Epoch: 0150 cost= 0.435218245 W= 0.59116185 b= -1.6070603\n",
      "Epoch: 0200 cost= 0.430897623 W= 0.5883537 b= -1.5925918\n",
      "Epoch: 0250 cost= 0.426623315 W= 0.586235 b= -1.5781131\n",
      "Epoch: 0300 cost= 0.422397554 W= 0.58419824 b= -1.5637083\n",
      "Epoch: 0350 cost= 0.418224484 W= 0.58218133 b= -1.549396\n",
      "Epoch: 0400 cost= 0.414101392 W= 0.5801772 b= -1.535169\n",
      "Epoch: 0450 cost= 0.410028398 W= 0.57818574 b= -1.5210291\n",
      "Epoch: 0500 cost= 0.406005710 W= 0.57620686 b= -1.506979\n",
      "Epoch: 0550 cost= 0.402031094 W= 0.57423997 b= -1.4930122\n",
      "Epoch: 0600 cost= 0.398104608 W= 0.5722853 b= -1.4791299\n",
      "Epoch: 0650 cost= 0.394225299 W= 0.5703414 b= -1.4653312\n",
      "Epoch: 0700 cost= 0.390392601 W= 0.5684098 b= -1.4516153\n",
      "Optimization Finished!\n",
      "Training cost= 0.3903926 W= 0.5684098 b= -1.4516153 \n",
      "\n"
     ]
    }
   ],
   "source": [
    "# Launch the graph\n",
    "# Using InteractiveSession (more convenient while using Notebooks)\n",
    "sess1 = tf.InteractiveSession()\n",
    "sess1.run(init)\n",
    "\n",
    "# Fit all training data\n",
    "for epoch in range(training_epochs_1):\n",
    "  for (x, y) in zip(train_X, train_Y):\n",
    "    sess1.run(optimizer_1, feed_dict={X: x, Y: y})\n",
    "\n",
    "  #Display logs per epoch step\n",
    "  if (epoch+1) % display_step == 0:\n",
    "    c = sess1.run(cost, feed_dict={X: train_X, Y:train_Y})\n",
    "    print(\"Epoch:\", '%04d' % (epoch+1), \"cost=\", \"{:.9f}\".format(c), \\\n",
    "                \"W=\", sess1.run(W), \"b=\", sess1.run(b))\n",
    "\n",
    "print(\"Optimization Finished!\")\n",
    "training_cost = sess1.run(cost, feed_dict={X: train_X, Y: train_Y})\n",
    "print(\"Training cost=\", training_cost, \"W=\", sess1.run(W), \"b=\", sess1.run(b), '\\n')"
   ]
  },
  {
   "cell_type": "code",
   "execution_count": 96,
   "metadata": {},
   "outputs": [
    {
     "name": "stdout",
     "output_type": "stream",
     "text": [
      "Epoch: 0050 cost= 0.284851700 W= 0.48307028 b= -0.9924244\n",
      "Epoch: 0100 cost= 0.188387305 W= 0.41785645 b= -0.5039099\n",
      "Epoch: 0150 cost= 0.137031958 W= 0.37032238 b= -0.1478346\n",
      "Epoch: 0200 cost= 0.109670855 W= 0.33567527 b= 0.11170577\n",
      "Epoch: 0250 cost= 0.095078371 W= 0.3104212 b= 0.30088294\n",
      "Epoch: 0300 cost= 0.087284818 W= 0.2920137 b= 0.43877262\n",
      "Epoch: 0350 cost= 0.083114445 W= 0.27859658 b= 0.5392799\n",
      "Epoch: 0400 cost= 0.080877185 W= 0.26881704 b= 0.6125379\n",
      "Epoch: 0450 cost= 0.079672739 W= 0.2616888 b= 0.6659356\n",
      "Epoch: 0500 cost= 0.079021312 W= 0.25649297 b= 0.7048572\n",
      "Epoch: 0550 cost= 0.078666851 W= 0.25270584 b= 0.7332265\n",
      "Epoch: 0600 cost= 0.078472368 W= 0.24994537 b= 0.75390506\n",
      "Epoch: 0650 cost= 0.078364618 W= 0.24793336 b= 0.7689769\n",
      "Epoch: 0700 cost= 0.078304119 W= 0.24646673 b= 0.7799633\n",
      "Epoch: 0750 cost= 0.078269601 W= 0.24539779 b= 0.7879707\n",
      "Epoch: 0800 cost= 0.078249551 W= 0.24461874 b= 0.7938065\n",
      "Epoch: 0850 cost= 0.078237623 W= 0.24405076 b= 0.7980612\n",
      "Epoch: 0900 cost= 0.078230374 W= 0.2436367 b= 0.801163\n",
      "Epoch: 0950 cost= 0.078225844 W= 0.24333502 b= 0.80342275\n",
      "Epoch: 1000 cost= 0.078222960 W= 0.24311507 b= 0.8050705\n",
      "Epoch: 1050 cost= 0.078221053 W= 0.24295484 b= 0.80627096\n",
      "Epoch: 1100 cost= 0.078219816 W= 0.242838 b= 0.80714613\n",
      "Epoch: 1150 cost= 0.078218967 W= 0.24275269 b= 0.80778503\n",
      "Epoch: 1200 cost= 0.078218356 W= 0.24269085 b= 0.80824834\n",
      "Epoch: 1250 cost= 0.078217946 W= 0.24264546 b= 0.8085883\n",
      "Epoch: 1300 cost= 0.078217626 W= 0.24261256 b= 0.80883485\n",
      "Epoch: 1350 cost= 0.078217447 W= 0.24258839 b= 0.80901587\n",
      "Epoch: 1400 cost= 0.078217290 W= 0.24257086 b= 0.8091469\n",
      "Epoch: 1450 cost= 0.078217186 W= 0.24255823 b= 0.8092419\n",
      "Epoch: 1500 cost= 0.078217104 W= 0.24254864 b= 0.8093135\n",
      "Epoch: 1550 cost= 0.078217044 W= 0.24254204 b= 0.80936295\n",
      "Epoch: 1600 cost= 0.078216992 W= 0.24253708 b= 0.8094002\n",
      "Epoch: 1650 cost= 0.078216970 W= 0.24253368 b= 0.80942565\n",
      "Epoch: 1700 cost= 0.078216963 W= 0.24253131 b= 0.8094433\n",
      "Epoch: 1750 cost= 0.078216963 W= 0.24252948 b= 0.80945694\n",
      "Epoch: 1800 cost= 0.078216940 W= 0.24252816 b= 0.80946696\n",
      "Epoch: 1850 cost= 0.078216933 W= 0.24252737 b= 0.8094729\n",
      "Epoch: 1900 cost= 0.078216933 W= 0.2425271 b= 0.8094748\n",
      "Epoch: 1950 cost= 0.078216933 W= 0.2425271 b= 0.8094748\n",
      "Epoch: 2000 cost= 0.078216933 W= 0.2425271 b= 0.8094748\n",
      "Epoch: 2050 cost= 0.078216933 W= 0.2425271 b= 0.8094748\n",
      "Epoch: 2100 cost= 0.078216933 W= 0.2425271 b= 0.8094748\n",
      "Epoch: 2150 cost= 0.078216933 W= 0.2425271 b= 0.8094748\n",
      "Epoch: 2200 cost= 0.078216933 W= 0.2425271 b= 0.8094748\n",
      "Epoch: 2250 cost= 0.078216933 W= 0.2425271 b= 0.8094748\n",
      "Epoch: 2300 cost= 0.078216933 W= 0.2425271 b= 0.8094748\n",
      "Epoch: 2350 cost= 0.078216933 W= 0.2425271 b= 0.8094748\n",
      "Epoch: 2400 cost= 0.078216933 W= 0.2425271 b= 0.8094748\n",
      "Epoch: 2450 cost= 0.078216933 W= 0.2425271 b= 0.8094748\n",
      "Epoch: 2500 cost= 0.078216933 W= 0.2425271 b= 0.8094748\n",
      "Optimization Finished!\n",
      "Training cost= 0.07821693 W= 0.2425271 b= 0.8094748 \n",
      "\n"
     ]
    }
   ],
   "source": [
    "# Launch the graph\n",
    "# Using InteractiveSession (more convenient while using Notebooks)\n",
    "sess2 = tf.InteractiveSession()\n",
    "sess2.run(init)\n",
    "\n",
    "# Fit all training data\n",
    "for epoch in range(training_epochs_2):\n",
    "  for (x, y) in zip(train_X, train_Y):\n",
    "    sess2.run(optimizer_2, feed_dict={X: x, Y: y})\n",
    "\n",
    "  #Display logs per epoch step\n",
    "  if (epoch+1) % display_step == 0:\n",
    "    c = sess2.run(cost, feed_dict={X: train_X, Y:train_Y})\n",
    "    print(\"Epoch:\", '%04d' % (epoch+1), \"cost=\", \"{:.9f}\".format(c), \\\n",
    "                \"W=\", sess2.run(W), \"b=\", sess2.run(b))\n",
    "\n",
    "print(\"Optimization Finished!\")\n",
    "training_cost = sess2.run(cost, feed_dict={X: train_X, Y: train_Y})\n",
    "print(\"Training cost=\", training_cost, \"W=\", sess2.run(W), \"b=\", sess2.run(b), '\\n')"
   ]
  },
  {
   "cell_type": "markdown",
   "metadata": {
    "colab_type": "text",
    "id": "KKI0y_EOA7IU"
   },
   "source": [
    "**ВАШ КОД ЗДЕСЬ:**"
   ]
  },
  {
   "cell_type": "code",
   "execution_count": 97,
   "metadata": {
    "colab": {},
    "colab_type": "code",
    "id": "e7BgIohrA8sF"
   },
   "outputs": [
    {
     "data": {
      "image/png": "[encoded data removed]",
      "text/plain": [
       "<Figure size 432x288 with 1 Axes>"
      ]
     },
     "metadata": {
      "needs_background": "light"
     },
     "output_type": "display_data"
    }
   ],
   "source": [
    "plt.plot(train_X, train_Y, 'ro', label='Исходные данные')\n",
    "plt.plot(train_X, sess.run(W)*train_X + sess.run(b), label='Парам. - epochs=1500,step=0.01')\n",
    "plt.plot(train_X, sess1.run(W)*train_X + sess1.run(b), label='Парам. - epochs=700,step=0.001')\n",
    "plt.plot(train_X, sess2.run(W)*train_X + sess2.run(b), label='Парам. - epochs=2500,step=0.05')\n",
    "plt.legend()\n",
    "plt.show()"
   ]
  },
  {
   "cell_type": "code",
   "execution_count": null,
   "metadata": {},
   "outputs": [],
   "source": []
  },
  {
   "cell_type": "code",
   "execution_count": null,
   "metadata": {},
   "outputs": [],
   "source": []
  },
  {
   "cell_type": "code",
   "execution_count": null,
   "metadata": {},
   "outputs": [],
   "source": []
  }
 ],
 "metadata": {
  "colab": {
   "collapsed_sections": [],
   "name": "linear_regression.ipynb",
   "provenance": []
  },
  "kernelspec": {
   "display_name": "Python 3",
   "language": "python",
   "name": "python3"
  },
  "language_info": {
   "codemirror_mode": {
    "name": "ipython",
    "version": 3
   },
   "file_extension": ".py",
   "mimetype": "text/x-python",
   "name": "python",
   "nbconvert_exporter": "python",
   "pygments_lexer": "ipython3",
   "version": "3.7.4"
  }
 },
 "nbformat": 4,
 "nbformat_minor": 1
}
